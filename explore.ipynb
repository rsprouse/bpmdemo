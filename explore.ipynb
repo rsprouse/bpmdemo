{
 "cells": [
  {
   "cell_type": "markdown",
   "metadata": {},
   "source": [
    "What can you do in the BPM?\n",
    "===============\n",
    "\n",
    "1. Python analysis scripts\n",
    "1. Data exploration in Jupyter notebooks"
   ]
  },
  {
   "cell_type": "code",
   "execution_count": null,
   "metadata": {
    "collapsed": false
   },
   "outputs": [],
   "source": [
    "# Our test audio and textgrid files.\n",
    "wav = 'test.wav'\n",
    "tg = 'test.TextGrid'"
   ]
  },
  {
   "cell_type": "markdown",
   "metadata": {
    "collapsed": true
   },
   "source": [
    "Exploring audiolabel\n",
    "-------------------------"
   ]
  },
  {
   "cell_type": "code",
   "execution_count": null,
   "metadata": {
    "collapsed": true
   },
   "outputs": [],
   "source": [
    "# First, import the library.\n",
    "from audiolabel import LabelManager"
   ]
  },
  {
   "cell_type": "code",
   "execution_count": null,
   "metadata": {
    "collapsed": false
   },
   "outputs": [],
   "source": [
    "# Instantiate a LabelManager from Praat, ESPS, Wavesurfer label\n",
    "# file or tabular data.\n",
    "lm = LabelManager(from_file=tg, from_type='praat')\n",
    "lm"
   ]
  },
  {
   "cell_type": "code",
   "execution_count": null,
   "metadata": {
    "collapsed": false
   },
   "outputs": [],
   "source": [
    "# Access the tiers and store them in variables for convenience.\n",
    "ptier = lm.tier(0)   # 'phone'\n",
    "wtier = lm.tier(1)   # 'word'\n",
    "wtier"
   ]
  },
  {
   "cell_type": "code",
   "execution_count": null,
   "metadata": {
    "collapsed": false
   },
   "outputs": [],
   "source": [
    "# Loop over all the labels in a tier.\n",
    "for label in ptier:\n",
    "    print(label.text, label.t1, label.t2, label.center, label.duration)"
   ]
  },
  {
   "cell_type": "code",
   "execution_count": null,
   "metadata": {
    "collapsed": false
   },
   "outputs": [],
   "source": [
    "# Loop over all the labels in a tier and do something if the\n",
    "# label meets some condition.\n",
    "for label in ptier:\n",
    "    if label.text in ['Z', 'S']:\n",
    "        print(label.text, label.t1)"
   ]
  },
  {
   "cell_type": "code",
   "execution_count": null,
   "metadata": {
    "collapsed": false
   },
   "outputs": [],
   "source": [
    "# Use search() to return a list of labels that match a\n",
    "# regular expression pattern.\n",
    "ptier.search('Z|S')"
   ]
  },
  {
   "cell_type": "code",
   "execution_count": null,
   "metadata": {
    "collapsed": false
   },
   "outputs": [],
   "source": [
    "for l in ptier.search('Z|S'):  # \\d\n",
    "    print(l.text, l.t1, l.duration)"
   ]
  },
  {
   "cell_type": "code",
   "execution_count": null,
   "metadata": {
    "collapsed": false
   },
   "outputs": [],
   "source": [
    "# Search for a phone and print phone + corresponding word.\n",
    "for l in ptier.search('Z|S'):\n",
    "    wordl = wtier.label_at(l.center)\n",
    "    print(l.text, wordl.text)"
   ]
  },
  {
   "cell_type": "code",
   "execution_count": null,
   "metadata": {
    "collapsed": false
   },
   "outputs": [],
   "source": [
    "# Get the next label from a tier.\n",
    "thisword = wtier.search('THIS')\n",
    "thisword\n",
    "#thisword = wtier.search('THIS')[0]\n",
    "#print(wtier.next(thisword).text)\n",
    "#print(wtier.next(thisword, skip=3).text)"
   ]
  },
  {
   "cell_type": "code",
   "execution_count": null,
   "metadata": {
    "collapsed": false,
    "scrolled": true
   },
   "outputs": [],
   "source": [
    "# tslice() is analogous to Array slice() but uses time-based values\n",
    "# rather than integer indexes.\n",
    "wtier.tslice(1.25, 1.94)"
   ]
  },
  {
   "cell_type": "code",
   "execution_count": null,
   "metadata": {
    "collapsed": true
   },
   "outputs": [],
   "source": [
    "def print_dur(fname, tier_id, pattern):\n",
    "    '''Get duration measurements from a textgrid tier using pattern.'''\n",
    "    mgr = LabelManager(from_file=fname, from_type='praat')\n",
    "    for l in mgr.tier(tier_id).search(pattern):\n",
    "        t1 = '{:0.4f}'.format(l.t1)\n",
    "        dur = '{:0.4f}'.format(l.duration)\n",
    "        print('\\t'.join([l.text, t1, dur]))"
   ]
  },
  {
   "cell_type": "code",
   "execution_count": null,
   "metadata": {
    "collapsed": false
   },
   "outputs": [],
   "source": [
    "print_dur(tg, 'phone', 'Z|S')"
   ]
  }
 ],
 "metadata": {
  "kernelspec": {
   "display_name": "Python 3",
   "language": "python",
   "name": "python3"
  },
  "language_info": {
   "codemirror_mode": {
    "name": "ipython",
    "version": 3
   },
   "file_extension": ".py",
   "mimetype": "text/x-python",
   "name": "python",
   "nbconvert_exporter": "python",
   "pygments_lexer": "ipython3",
   "version": "3.5.1"
  }
 },
 "nbformat": 4,
 "nbformat_minor": 0
}
